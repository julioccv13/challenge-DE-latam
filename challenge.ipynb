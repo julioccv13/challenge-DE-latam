{
 "cells": [
  {
   "cell_type": "markdown",
   "metadata": {},
   "source": [
    "En este archivo puedes escribir lo que estimes conveniente. Te recomendamos detallar tu solución y todas las suposiciones que estás considerando. Aquí puedes ejecutar las funciones que definiste en los otros archivos de la carpeta src, medir el tiempo, memoria, etc."
   ]
  },
  {
   "cell_type": "code",
   "execution_count": 3,
   "metadata": {},
   "outputs": [],
   "source": [
    "from typing import List, Tuple\n",
    "from datetime import datetime\n",
    "from collections import defaultdict, Counter\n",
    "import json\n",
    "import memory_profiler\n",
    "import line_profiler"
   ]
  },
  {
   "cell_type": "code",
   "execution_count": 27,
   "metadata": {},
   "outputs": [],
   "source": [
    "file_path = \"farmers-protest-tweets-2021-2-4.json\""
   ]
  },
  {
   "cell_type": "markdown",
   "metadata": {},
   "source": [
    "# This functions will read the json file, iterate each line to get date and username and find the top 10 dates with its top user"
   ]
  },
  {
   "cell_type": "markdown",
   "metadata": {},
   "source": [
    "This function parses the JSON file once and iterates over each line and uses separate dictionaries for storing tweet counts"
   ]
  },
  {
   "cell_type": "code",
   "execution_count": 37,
   "metadata": {},
   "outputs": [
    {
     "data": {
      "text/plain": [
       "[(datetime.date(2021, 2, 12), 'RanbirS00614606'),\n",
       " (datetime.date(2021, 2, 13), 'MaanDee08215437'),\n",
       " (datetime.date(2021, 2, 17), 'RaaJVinderkaur'),\n",
       " (datetime.date(2021, 2, 16), 'jot__b'),\n",
       " (datetime.date(2021, 2, 14), 'rebelpacifist'),\n",
       " (datetime.date(2021, 2, 18), 'neetuanjle_nitu'),\n",
       " (datetime.date(2021, 2, 15), 'jot__b'),\n",
       " (datetime.date(2021, 2, 20), 'MangalJ23056160'),\n",
       " (datetime.date(2021, 2, 23), 'Surrypuria'),\n",
       " (datetime.date(2021, 2, 19), 'Preetm91')]"
      ]
     },
     "execution_count": 37,
     "metadata": {},
     "output_type": "execute_result"
    }
   ],
   "source": [
    "def q1_time(file_path: str) -> List[Tuple[datetime.date, str]]:\n",
    "    # Open dictionaries to store tweet and user tweet counts\n",
    "    tweet_count = {}\n",
    "    user_tweets = {}\n",
    "\n",
    "    # Open the JSON file to iterate and parse each line\n",
    "    with open(file_path, 'r') as f:\n",
    "        for line in f:\n",
    "            tweet = json.loads(line)      \n",
    "                  \n",
    "            # Extract the tweet date and username\n",
    "            tweet_date = datetime.fromisoformat(tweet['date']).date()\n",
    "            user = tweet['user']['username']\n",
    "\n",
    "            # Increment the tweet count for the tweet date\n",
    "            tweet_count[tweet_date] = tweet_count.get(tweet_date, 0) + 1\n",
    "            \n",
    "            # Increment the user tweet count for the tweet date and user\n",
    "            user_tweets[(tweet_date, user)] = user_tweets.get((tweet_date, user), 0) + 1\n",
    "\n",
    "    # Find the top 10 dates with the most tweets\n",
    "    top_dates = sorted(tweet_count.items(), key=lambda x: x[1], reverse=True)[:10]\n",
    "    \n",
    "    # Find the user with the most tweets for each of the top dates\n",
    "    result = [(date, max((user for (d, user), count in user_tweets.items() if d == date), key=user_tweets.get)) for date, _ in top_dates]\n",
    "    return result\n",
    "\n",
    "# Test\n",
    "q1_time(file_path)"
   ]
  },
  {
   "cell_type": "code",
   "execution_count": 38,
   "metadata": {},
   "outputs": [
    {
     "name": "stdout",
     "output_type": "stream",
     "text": [
      "peak memory: 957.99 MiB, increment: 411.00 MiB\n"
     ]
    },
    {
     "name": "stdout",
     "output_type": "stream",
     "text": [
      "Timer unit: 1e-07 s\n",
      "\n",
      "Total time: 4.71895 s\n",
      "File: C:\\Users\\julio\\AppData\\Local\\Temp\\ipykernel_12976\\3299383397.py\n",
      "Function: q1_time at line 1\n",
      "\n",
      "Line #      Hits         Time  Per Hit   % Time  Line Contents\n",
      "==============================================================\n",
      "     1                                           def q1_time(file_path: str) -> List[Tuple[datetime.date, str]]:\n",
      "     2         2       1484.0    742.0      0.0      with open(file_path, 'r') as f:\n",
      "     3         1   13825196.0    1e+07     29.3          data = f.readlines()\n",
      "     4                                           \n",
      "     5         1          7.0      7.0      0.0      tweet_count = {}\n",
      "     6         1          8.0      8.0      0.0      user_tweets = {}\n",
      "     7                                           \n",
      "     8    117408     408256.0      3.5      0.9      for line in data:\n",
      "     9    117407   29684550.0    252.8     62.9          tweet = json.loads(line)\n",
      "    10    117407     901936.0      7.7      1.9          tweet_date = datetime.fromisoformat(tweet['date']).date()\n",
      "    11    117407     420341.0      3.6      0.9          user = tweet['user']['username']\n",
      "    12                                                   \n",
      "    13    117407     669693.0      5.7      1.4          tweet_count[tweet_date] = tweet_count.get(tweet_date, 0) + 1\n",
      "    14                                                   \n",
      "    15    117407     322727.0      2.7      0.7          if tweet_date not in user_tweets:\n",
      "    16        13         73.0      5.6      0.0              user_tweets[tweet_date] = {}\n",
      "    17    117407     919472.0      7.8      1.9          user_tweets[tweet_date][user] = user_tweets[tweet_date].get(user, 0) + 1\n",
      "    18                                           \n",
      "    19         1        170.0    170.0      0.0      top_dates = sorted(tweet_count.items(), key=lambda x: x[1], reverse=True)[:10]\n",
      "    20                                               \n",
      "    21         1      35570.0  35570.0      0.1      result = [(date, max(user_tweets[date], key=user_tweets[date].get)) for date, _ in top_dates]\n",
      "    22                                               \n",
      "    23         1          3.0      3.0      0.0      return result"
     ]
    }
   ],
   "source": [
    "%memit -r 1 q1_time(file_path)\n",
    "%lprun -f q1_time q1_time(file_path)"
   ]
  },
  {
   "cell_type": "markdown",
   "metadata": {},
   "source": [
    "This function optimizes memory usage by using a more memory-efficient data structure and avoiding the creation of unnecessary intermediate data structures"
   ]
  },
  {
   "cell_type": "code",
   "execution_count": 36,
   "metadata": {},
   "outputs": [
    {
     "data": {
      "text/plain": [
       "[(datetime.date(2021, 2, 12), 'RanbirS00614606'),\n",
       " (datetime.date(2021, 2, 13), 'MaanDee08215437'),\n",
       " (datetime.date(2021, 2, 17), 'RaaJVinderkaur'),\n",
       " (datetime.date(2021, 2, 16), 'jot__b'),\n",
       " (datetime.date(2021, 2, 14), 'rebelpacifist'),\n",
       " (datetime.date(2021, 2, 18), 'neetuanjle_nitu'),\n",
       " (datetime.date(2021, 2, 15), 'jot__b'),\n",
       " (datetime.date(2021, 2, 20), 'MangalJ23056160'),\n",
       " (datetime.date(2021, 2, 23), 'Surrypuria'),\n",
       " (datetime.date(2021, 2, 19), 'Preetm91')]"
      ]
     },
     "execution_count": 36,
     "metadata": {},
     "output_type": "execute_result"
    }
   ],
   "source": [
    "def q1_memory(file_path: str) -> List[Tuple[datetime.date, str]]:\n",
    "    # Open a defaultdict to store tweet counts for each date and user\n",
    "    date_user_count = defaultdict(lambda: defaultdict(int))\n",
    "\n",
    "    # Open the JSON file and iterate and parse each line\n",
    "    with open(file_path, 'r') as file:\n",
    "        for line in file:\n",
    "            tweet = json.loads(line)\n",
    "            \n",
    "            # Extract the tweet date and username\n",
    "            tweet_date = datetime.strptime(tweet['date'], '%Y-%m-%dT%H:%M:%S+00:00').date()\n",
    "            username = tweet['user']['username']\n",
    "            \n",
    "            # Increment the count of tweets for the tweet date and username\n",
    "            date_user_count[tweet_date][username] += 1\n",
    "\n",
    "    # Find the top 10 dates with the most tweets\n",
    "    top_10_dates = sorted(date_user_count.items(), key=lambda x: sum(x[1].values()), reverse=True)[:10]\n",
    "    \n",
    "    # Open an empty list to store the result\n",
    "    result = []\n",
    "    \n",
    "    # Iterate over the top 10 dates and their corresponding user counts\n",
    "    for date, users in top_10_dates:\n",
    "        # Find the user with the maximum tweet count for the current date and append the date and the user with the maximum tweet count to the result list\n",
    "        max_user = max(users, key=users.get)\n",
    "        result.append((date, max_user))\n",
    "    return result\n",
    "\n",
    "# Test\n",
    "q1_memory(file_path)"
   ]
  },
  {
   "cell_type": "code",
   "execution_count": 39,
   "metadata": {},
   "outputs": [
    {
     "name": "stdout",
     "output_type": "stream",
     "text": [
      "peak memory: 550.82 MiB, increment: 1.61 MiB\n"
     ]
    },
    {
     "name": "stdout",
     "output_type": "stream",
     "text": [
      "Timer unit: 1e-07 s\n",
      "\n",
      "Total time: 8.8611 s\n",
      "File: C:\\Users\\julio\\AppData\\Local\\Temp\\ipykernel_12976\\1097590013.py\n",
      "Function: q1_memory at line 1\n",
      "\n",
      "Line #      Hits         Time  Per Hit   % Time  Line Contents\n",
      "==============================================================\n",
      "     1                                           def q1_memory(file_path: str) -> List[Tuple[datetime.date, str]]:\n",
      "     2         1         21.0     21.0      0.0      date_user_count = defaultdict(lambda: defaultdict(int))\n",
      "     3                                           \n",
      "     4         2       1992.0    996.0      0.0      with open(file_path, 'r') as file:\n",
      "     5    117408   14626567.0    124.6     16.5          for line in file:\n",
      "     6    117407   32447833.0    276.4     36.6              tweet = json.loads(line)\n",
      "     7    117407   39986103.0    340.6     45.1              tweet_date = datetime.strptime(tweet['date'], '%Y-%m-%dT%H:%M:%S+00:00').date()\n",
      "     8    117407     446358.0      3.8      0.5              username = tweet['user']['username']\n",
      "     9    117407    1064809.0      9.1      1.2              date_user_count[tweet_date][username] += 1\n",
      "    10                                           \n",
      "    11         1       2616.0   2616.0      0.0      top_10_dates = sorted(date_user_count.items(), key=lambda x: sum(x[1].values()), reverse=True)[:10]\n",
      "    12         1          3.0      3.0      0.0      result = []\n",
      "    13        11         56.0      5.1      0.0      for date, users in top_10_dates:\n",
      "    14        10      34591.0   3459.1      0.0          max_user = max(users, key=users.get)\n",
      "    15        10         68.0      6.8      0.0          result.append((date, max_user))\n",
      "    16         1          3.0      3.0      0.0      return result"
     ]
    }
   ],
   "source": [
    "%memit -r 1 q1_memory(file_path)\n",
    "%lprun -f q1_memory q1_memory(file_path)"
   ]
  },
  {
   "cell_type": "markdown",
   "metadata": {},
   "source": [
    "# Here we'll read the json file and use a helper function to find the emojis from the content and then iterate to find the most commo ones"
   ]
  },
  {
   "cell_type": "markdown",
   "metadata": {},
   "source": [
    "Here we will create a function to extract emojis from text uing unicode ranges, and then used counter object to find the 10 most used"
   ]
  },
  {
   "cell_type": "code",
   "execution_count": 60,
   "metadata": {},
   "outputs": [],
   "source": [
    "def extract_emojis(text: str) -> List[str]:\n",
    "    emojis = []\n",
    "    for char in text:\n",
    "        if 0x1F600 <= ord(char) <= 0x1F64F or \\\n",
    "           0x1F300 <= ord(char) <= 0x1F5FF or \\\n",
    "           0x1F680 <= ord(char) <= 0x1F6FF or \\\n",
    "           0x2600 <= ord(char) <= 0x26FF or \\\n",
    "           0x2700 <= ord(char) <= 0x27BF or \\\n",
    "           0xFE00 <= ord(char) <= 0xFE0F or \\\n",
    "           0x1F900 <= ord(char) <= 0x1F9FF:\n",
    "            emojis.append(char)\n",
    "    return emojis"
   ]
  },
  {
   "cell_type": "markdown",
   "metadata": {},
   "source": [
    "In this function all lines from the JSON file are read into memory at once using file.readline"
   ]
  },
  {
   "cell_type": "code",
   "execution_count": 69,
   "metadata": {},
   "outputs": [
    {
     "data": {
      "text/plain": [
       "[('🙏', 7286),\n",
       " ('😂', 3072),\n",
       " ('️', 3061),\n",
       " ('🚜', 2972),\n",
       " ('✊', 2411),\n",
       " ('🌾', 2363),\n",
       " ('🏻', 2080),\n",
       " ('❤', 1779),\n",
       " ('🤣', 1668),\n",
       " ('🏽', 1218)]"
      ]
     },
     "execution_count": 69,
     "metadata": {},
     "output_type": "execute_result"
    }
   ],
   "source": [
    "def q2_time(file_path: str) -> List[Tuple[str, int]]:\n",
    "    with open(file_path, 'r', encoding='utf-8') as file:\n",
    "        # Read all lines from the file into memory\n",
    "        all_content = file.readlines()\n",
    "    # Create a Counter \n",
    "    emojis_counter = Counter()\n",
    "    # Process and load each line of JSON data\n",
    "    for line in all_content:\n",
    "        json_data = json.loads(line.strip())\n",
    "        # Extract content from JSON data\n",
    "        content = json_data.get('content', '')\n",
    "        # Extract emojis from content\n",
    "        emojis = extract_emojis(content)\n",
    "        # Update the Counter with the extracted emojis\n",
    "        emojis_counter.update(emojis)\n",
    "    # Return the top 10 most common emojis\n",
    "    return emojis_counter.most_common(10)\n",
    "\n",
    "\n",
    "# Test\n",
    "q2_time(file_path)"
   ]
  },
  {
   "cell_type": "code",
   "execution_count": 70,
   "metadata": {},
   "outputs": [
    {
     "name": "stdout",
     "output_type": "stream",
     "text": [
      "peak memory: 522.01 MiB, increment: 409.02 MiB\n"
     ]
    },
    {
     "name": "stdout",
     "output_type": "stream",
     "text": [
      "Timer unit: 1e-07 s\n",
      "\n",
      "Total time: 41.006 s\n",
      "File: C:\\Users\\julio\\AppData\\Local\\Temp\\ipykernel_12976\\3743776943.py\n",
      "Function: q2_time at line 1\n",
      "\n",
      "Line #      Hits         Time  Per Hit   % Time  Line Contents\n",
      "==============================================================\n",
      "     1                                           def q2_time(file_path: str) -> List[Tuple[str, int]]:\n",
      "     2         2       1406.0    703.0      0.0      with open(file_path, 'r', encoding='utf-8') as file:\n",
      "     3         1    9346819.0    9e+06      2.3          all_content = file.readlines() \n",
      "     4         1        163.0    163.0      0.0      emojis_counter = Counter()\n",
      "     5    117408     537739.0      4.6      0.1      for line in all_content:\n",
      "     6    117407   36636093.0    312.0      8.9          json_data = json.loads(line.strip())\n",
      "     7    117407     601205.0      5.1      0.1          content = json_data.get('content', '')\n",
      "     8    117407  359193115.0   3059.4     87.6          emojis = extract_emojis(content)\n",
      "     9    117407    3739595.0     31.9      0.9          emojis_counter.update(emojis)\n",
      "    10                                                       \n",
      "    11         1       4083.0   4083.0      0.0      return emojis_counter.most_common(10)"
     ]
    }
   ],
   "source": [
    "%memit -r 1 q2_time(file_path)\n",
    "%lprun -f q2_time q2_time(file_path)"
   ]
  },
  {
   "cell_type": "markdown",
   "metadata": {},
   "source": [
    "In this function, JSON data is processed line by line without loading the entire file into memory at once"
   ]
  },
  {
   "cell_type": "code",
   "execution_count": 68,
   "metadata": {},
   "outputs": [
    {
     "data": {
      "text/plain": [
       "[('🙏', 7286),\n",
       " ('😂', 3072),\n",
       " ('️', 3061),\n",
       " ('🚜', 2972),\n",
       " ('✊', 2411),\n",
       " ('🌾', 2363),\n",
       " ('🏻', 2080),\n",
       " ('❤', 1779),\n",
       " ('🤣', 1668),\n",
       " ('🏽', 1218)]"
      ]
     },
     "execution_count": 68,
     "metadata": {},
     "output_type": "execute_result"
    }
   ],
   "source": [
    "def q2_memory(file_path: str) -> List[Tuple[str, int]]:\n",
    "    # Create a Counter to count occurrences of emojis\n",
    "    emojis_counter = Counter()\n",
    "    with open(file_path, 'r', encoding='utf-8') as file:\n",
    "        # Process and load each line of JSON data\n",
    "        for line in file:\n",
    "            json_data = json.loads(line.strip())\n",
    "            # Extract content from JSON data\n",
    "            content = json_data.get('content', '')\n",
    "            # Extract emojis from content\n",
    "            emojis = extract_emojis(content)\n",
    "            # Update the Counter with the extracted emojis\n",
    "            emojis_counter.update(emojis)\n",
    "    # Return the top 10 most common emojis\n",
    "    return emojis_counter.most_common(10)\n",
    "\n",
    "# Test\n",
    "q2_memory(file_path)\n",
    "    "
   ]
  },
  {
   "cell_type": "code",
   "execution_count": 71,
   "metadata": {},
   "outputs": [
    {
     "name": "stdout",
     "output_type": "stream",
     "text": [
      "peak memory: 113.50 MiB, increment: 0.40 MiB\n"
     ]
    },
    {
     "name": "stdout",
     "output_type": "stream",
     "text": [
      "Timer unit: 1e-07 s\n",
      "\n",
      "Total time: 42.1141 s\n",
      "File: C:\\Users\\julio\\AppData\\Local\\Temp\\ipykernel_12976\\1918972568.py\n",
      "Function: q2_memory at line 1\n",
      "\n",
      "Line #      Hits         Time  Per Hit   % Time  Line Contents\n",
      "==============================================================\n",
      "     1                                           def q2_memory(file_path: str) -> List[Tuple[str, int]]:\n",
      "     2         1         84.0     84.0      0.0      emojis_counter = Counter()\n",
      "     3         2       1822.0    911.0      0.0      with open(file_path, 'r', encoding='utf-8') as file:\n",
      "     4    117408   12698783.0    108.2      3.0          for line in file:\n",
      "     5    117407   38472255.0    327.7      9.1              json_data = json.loads(line.strip())\n",
      "     6    117407     640805.0      5.5      0.2              content = json_data.get('content', '')\n",
      "     7    117407  365105141.0   3109.7     86.7              emojis = extract_emojis(content)\n",
      "     8    117407    4218375.0     35.9      1.0              emojis_counter.update(emojis)\n",
      "     9                                               \n",
      "    10         1       3758.0   3758.0      0.0      return emojis_counter.most_common(10)"
     ]
    }
   ],
   "source": [
    "%memit -r 1 q2_memory(file_path)\n",
    "%lprun -f q2_memory q2_memory(file_path)"
   ]
  },
  {
   "cell_type": "code",
   "execution_count": null,
   "metadata": {},
   "outputs": [],
   "source": [
    "def q3_memory(file_path: str) -> List[Tuple[str, int]]:\n",
    "    # Diccionario para almacenar el conteo de menciones para cada usuario\n",
    "    mention_counts = {}\n",
    "    \n",
    "    # Abrir el archivo JSON de tweets\n",
    "    with open(file_path, 'r', encoding='utf-8') as file:\n",
    "        # Leer cada línea del archivo\n",
    "        for line in file:\n",
    "            # Parsear los datos JSON de la línea\n",
    "            tweet_data = json.loads(line)\n",
    "            \n",
    "            # Extraer el nombre de usuario del tweet\n",
    "            username = tweet_data['user']['username']\n",
    "            \n",
    "            # Contar el número de menciones (@) en el contenido del tweet\n",
    "            mention_count = tweet_data['content'].count('@')\n",
    "            \n",
    "            # Actualizar el conteo de menciones para el usuario en el diccionario\n",
    "            if username in mention_counts:\n",
    "                mention_counts[username] += mention_count\n",
    "            else:\n",
    "                mention_counts[username] = mention_count\n",
    "    \n",
    "    # Seleccionar los top 10 usuarios más influyentes basados en el conteo de menciones\n",
    "    top_users = sorted(mention_counts.items(), key=lambda x: x[1], reverse=True)[:10]\n",
    "    \n",
    "    # Retornar el resultado\n",
    "    return top_users"
   ]
  },
  {
   "cell_type": "code",
   "execution_count": null,
   "metadata": {},
   "outputs": [],
   "source": [
    "def q3_time(file_path: str) -> List[Tuple[str, int]]:\n",
    "    # Diccionario para almacenar el conteo de menciones para cada usuario\n",
    "    mention_counts = Counter()\n",
    "    \n",
    "    # Abrir el archivo JSON de tweets\n",
    "    with open(file_path, 'r', encoding='utf-8') as file:\n",
    "        # Leer cada línea del archivo\n",
    "        for line in file:\n",
    "            # Parsear los datos JSON de la línea\n",
    "            tweet_data = json.loads(line)\n",
    "            \n",
    "            # Extraer el nombre de usuario del tweet\n",
    "            username = tweet_data['user']['username']\n",
    "            \n",
    "            # Contar el número de menciones (@) en el contenido del tweet y actualizar el conteo\n",
    "            mention_count = tweet_data['content'].count('@')\n",
    "            mention_counts[username] += mention_count\n",
    "    \n",
    "    # Seleccionar los top 10 usuarios más influyentes basados en el conteo de menciones\n",
    "    top_users = mention_counts.most_common(10)\n",
    "    \n",
    "    # Retornar el resultado\n",
    "    return top_users"
   ]
  }
 ],
 "metadata": {
  "kernelspec": {
   "display_name": "env",
   "language": "python",
   "name": "python3"
  },
  "language_info": {
   "codemirror_mode": {
    "name": "ipython",
    "version": 3
   },
   "file_extension": ".py",
   "mimetype": "text/x-python",
   "name": "python",
   "nbconvert_exporter": "python",
   "pygments_lexer": "ipython3",
   "version": "3.11.5"
  },
  "orig_nbformat": 4
 },
 "nbformat": 4,
 "nbformat_minor": 2
}
